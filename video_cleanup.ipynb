{
 "metadata": {
  "language_info": {
   "codemirror_mode": {
    "name": "ipython",
    "version": 3
   },
   "file_extension": ".py",
   "mimetype": "text/x-python",
   "name": "python",
   "nbconvert_exporter": "python",
   "pygments_lexer": "ipython3",
   "version": "3.6.10-final"
  },
  "orig_nbformat": 2,
  "kernelspec": {
   "name": "Python 3.6.10 64-bit ('PythonData': conda)",
   "display_name": "Python 3.6.10 64-bit ('PythonData': conda)",
   "metadata": {
    "interpreter": {
     "hash": "618fe78b8d561c647932c992064697570060e2cddac3d1a3a68750b5e23d474c"
    }
   }
  }
 },
 "nbformat": 4,
 "nbformat_minor": 2,
 "cells": [
  {
   "cell_type": "code",
   "execution_count": 9,
   "metadata": {},
   "outputs": [],
   "source": [
    "#dependencies\n",
    "import pandas as pd\n",
    "import datetime\n",
    "import numpy as np"
   ]
  },
  {
   "cell_type": "code",
   "execution_count": 10,
   "metadata": {},
   "outputs": [],
   "source": [
    "us_videos = pd.read_csv('USvideos.csv')\n",
    "us_videos_categories = pd.read_json('US_category_id.json')\n"
   ]
  },
  {
   "cell_type": "code",
   "execution_count": 11,
   "metadata": {},
   "outputs": [
    {
     "output_type": "stream",
     "name": "stdout",
     "text": [
      "<class 'pandas.core.frame.DataFrame'>\nRangeIndex: 40949 entries, 0 to 40948\nData columns (total 16 columns):\n #   Column                  Non-Null Count  Dtype \n---  ------                  --------------  ----- \n 0   video_id                40949 non-null  object\n 1   trending_date           40949 non-null  object\n 2   title                   40949 non-null  object\n 3   channel_title           40949 non-null  object\n 4   category_id             40949 non-null  int64 \n 5   publish_time            40949 non-null  object\n 6   tags                    40949 non-null  object\n 7   views                   40949 non-null  int64 \n 8   likes                   40949 non-null  int64 \n 9   dislikes                40949 non-null  int64 \n 10  comment_count           40949 non-null  int64 \n 11  thumbnail_link          40949 non-null  object\n 12  comments_disabled       40949 non-null  bool  \n 13  ratings_disabled        40949 non-null  bool  \n 14  video_error_or_removed  40949 non-null  bool  \n 15  description             40379 non-null  object\ndtypes: bool(3), int64(5), object(8)\nmemory usage: 4.2+ MB\n"
     ]
    }
   ],
   "source": [
    "us_videos.info()"
   ]
  },
  {
   "cell_type": "code",
   "execution_count": 12,
   "metadata": {},
   "outputs": [],
   "source": [
    "us_videos['trending_date'] = pd.to_datetime(us_videos['trending_date'], format='%y.%d.%m').dt.date"
   ]
  },
  {
   "cell_type": "code",
   "execution_count": 13,
   "metadata": {},
   "outputs": [],
   "source": [
    "publish_time = pd.to_datetime(us_videos.publish_time, format='%Y-%m-%dT%H:%M:%S.%fZ')\n",
    "\n",
    "# Create Variable publish_date\n",
    "us_videos['publish_date'] = publish_time.dt.date\n",
    "\n",
    "# Drop publish_time\n",
    "us_videos.drop('publish_time',axis=1,inplace=True)"
   ]
  }
 ]
}